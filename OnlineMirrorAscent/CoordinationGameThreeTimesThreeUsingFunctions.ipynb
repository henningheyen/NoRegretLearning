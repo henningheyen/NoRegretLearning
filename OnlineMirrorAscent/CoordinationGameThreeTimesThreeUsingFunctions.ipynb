{
 "cells": [
  {
   "cell_type": "markdown",
   "metadata": {},
   "source": [
    "# Coordination Game 3x3 UsingFunctions"
   ]
  },
  {
   "cell_type": "code",
   "execution_count": null,
   "metadata": {},
   "outputs": [],
   "source": [
    "import numpy as np\n",
    "from IPython import display\n",
    "from ThreeTimesThreeFunctions import updateStrategy, plot, calculateFrequencies, plotFrequencies, systematicPlots, randomPlots"
   ]
  },
  {
   "cell_type": "code",
   "execution_count": null,
   "metadata": {},
   "outputs": [],
   "source": [
    "display.Image(\"/Users/henningheyen/Desktop/Studium/TUM/BachelorThesis/Git/NoRegretLearning/Screenshots/CoordinationGameWikipedia.png\", width = 300)\n",
    "#PNE: (T,L), (M,C), (B,R)\n",
    "#MNE: [[(T:2/11, M:3/11, B:6/11),((L:2/11, C:3/11, R:6/11))],\n",
    "#      [(T:0, M:1/3, B:2/3),((L:0, C:1/3, R:2/3))],\n",
    "#      [(T:1/4, M:0, B:3/4),((L:1/4, C:0, R:3/4))],\n",
    "#      [(T:2/5, M:3/5, B:0),((L:2/5, C:3/5, R:0))]]"
   ]
  },
  {
   "cell_type": "code",
   "execution_count": null,
   "metadata": {},
   "outputs": [],
   "source": [
    "######### Initialization ######### (note: utility maximization)\n",
    "\n",
    "# player 1:\n",
    "payoff1 = np.array([[3,0,0],[0,2,0],[0,0,1]])\n",
    "\n",
    "# player 2:\n",
    "payoff2 = payoff1\n",
    "\n",
    "#number of iterations\n",
    "iterations = int(100)\n",
    "\n",
    "#game title\n",
    "gameName = \"3x3 Coordination Game\"\n",
    "\n",
    "#name of actions. Strategy1 refers to player 1\n",
    "nameOfStrategy1Action1 = \"T\"\n",
    "nameOfStrategy1Action2 = \"M\"\n",
    "nameOfStrategy1Action3 = \"B\"\n",
    "nameOfStrategy2Action1 = \"L\"\n",
    "nameOfStrategy2Action2 = \"C\"\n",
    "nameOfStrategy2Action3 = \"R\"\n",
    "\n",
    "strategyNames = [nameOfStrategy1Action1,nameOfStrategy1Action2, nameOfStrategy1Action3,\n",
    "                nameOfStrategy2Action1, nameOfStrategy2Action2, nameOfStrategy2Action3]\n",
    "\n",
    "######### Equilibria #########\n",
    "\n",
    "#sytax: [..., [[P(Strategy1Action1), P(Strategy2Action2), P(Strategy2Action3)],\n",
    "#              [P(Strategy2Action1), P(Strategy2Action2), P(Strategy2Action3)]], ...]\n",
    "\n",
    "#Pure Nash Equilibria \n",
    "pne = [[[1,0,0],[1,0,0]],[[0,1,0],[0,1,0]],[[0,0,1],[0,0,1]]]\n",
    "\n",
    "#Mixed Nash Equilibria \n",
    "mne = [[[2/11, 3/11, 6/11],[2/11, 3/11, 6/11]],\n",
    "      [[0, 1/3, 2/3],[0, 1/3, 2/3]],\n",
    "      [[1/4, 0, 3/4],[1/4, 0, 3/4]],\n",
    "      [[2/5, 3/5, 0],[2/5, 3/5, 0]]]"
   ]
  },
  {
   "cell_type": "code",
   "execution_count": null,
   "metadata": {},
   "outputs": [],
   "source": [
    "# INITIALIAL STRATEGY # \n",
    "strategy1init = np.array([1/9,2/9,6/9])\n",
    "strategy2init = np.array([2/7,4/7,1/7])"
   ]
  },
  {
   "cell_type": "code",
   "execution_count": null,
   "metadata": {},
   "outputs": [],
   "source": [
    "# NORMALIZED EXPONENTIALED GRADIENT #\n",
    "\n",
    "strategy1, strategy2 = updateStrategy(iterations, payoff1, payoff2, strategy1init, strategy2init, \"NormalizedEG\")\n",
    "plot(iterations, strategy1, strategy2, gameName, strategyNames, \"NormalizedEG\")"
   ]
  },
  {
   "cell_type": "code",
   "execution_count": null,
   "metadata": {},
   "outputs": [],
   "source": [
    "# ONLINE GRADIENT ASCENT WITH LAZY PROJECTION #\n",
    "\n",
    "strategy1, strategy2 = updateStrategy(iterations, payoff1, payoff2, strategy1init, strategy2init, \"ProjOGA\")\n",
    "plot(iterations, strategy1, strategy2, gameName, strategyNames, \"ProjOGA\")"
   ]
  },
  {
   "cell_type": "code",
   "execution_count": null,
   "metadata": {},
   "outputs": [],
   "source": [
    "n_per_dim = 0\n",
    "systematicPlots(n_per_dim, gameName, strategyNames,\n",
    "                    iterations, payoff1, payoff2, \"ProjOGA\", figsize = 4)"
   ]
  },
  {
   "cell_type": "code",
   "execution_count": null,
   "metadata": {},
   "outputs": [],
   "source": [
    "randomPlots(0, gameName, strategyNames, iterations, payoff1, payoff2, \"NormalizedEG\", figsize=6)"
   ]
  },
  {
   "cell_type": "code",
   "execution_count": null,
   "metadata": {},
   "outputs": [],
   "source": []
  }
 ],
 "metadata": {
  "kernelspec": {
   "display_name": "Python 3",
   "language": "python",
   "name": "python3"
  },
  "language_info": {
   "codemirror_mode": {
    "name": "ipython",
    "version": 3
   },
   "file_extension": ".py",
   "mimetype": "text/x-python",
   "name": "python",
   "nbconvert_exporter": "python",
   "pygments_lexer": "ipython3",
   "version": "3.8.5"
  }
 },
 "nbformat": 4,
 "nbformat_minor": 5
}