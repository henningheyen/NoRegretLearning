{
 "cells": [
  {
   "cell_type": "markdown",
   "metadata": {},
   "source": [
    "# Matching Pennies using Functions"
   ]
  },
  {
   "cell_type": "code",
   "execution_count": null,
   "metadata": {
    "pycharm": {
     "is_executing": true
    }
   },
   "outputs": [],
   "source": [
    "import numpy as np\n",
    "from IPython import display\n",
    "from TwoTimesTwoGamesFunctions import updateStrategy, plot, trajectory, plotTrajectory, computeStablePoints, plotStableRegion, checkStability, calculateFrequencies, plotFrequencies"
   ]
  },
  {
   "cell_type": "code",
   "execution_count": null,
   "metadata": {},
   "outputs": [],
   "source": [
    "display.Image(\"/Users/henningheyen/Desktop/Studium/TUM/BachelorThesis/Git/NoRegretLearning/Screenshots/MatchingPenniesWikipedia.png\", width = 300)"
   ]
  },
  {
   "cell_type": "code",
   "execution_count": null,
   "metadata": {},
   "outputs": [],
   "source": [
    "######### Initialization ######### (note: utility maximization)\n",
    "\n",
    "# player 1:\n",
    "payoff1 = np.array([[1,-1],[-1,1]])\n",
    "\n",
    "# player 2:\n",
    "payoff2 = np.array([[-1,1],[1,-1]])\n",
    "\n",
    "#number of iterations\n",
    "iterations = int(20000)\n",
    "\n",
    "#number of vectors in the plot = gridSize^2\n",
    "gridSize = 15\n",
    "\n",
    "#game title\n",
    "gameName = \"Matching Pennies\"\n",
    "\n",
    "#name of first strategy \n",
    "nameOfStrategy1 = \"Heads\"\n",
    "nameOfStrategy2 = \"Heads\"\n",
    "\n",
    "######### Equilibria #########\n",
    "\n",
    "#Pure Nash Equilibria\n",
    "pne = []\n",
    "\n",
    "#Mixed Nash Equilibria \n",
    "#sytax: (..., (P1(strategy1),P2(strategy1)), ... )\n",
    "mne = [[0.5,0.5]]\n"
   ]
  },
  {
   "cell_type": "code",
   "execution_count": null,
   "metadata": {
    "scrolled": true
   },
   "outputs": [],
   "source": [
    "# EMPIRICAL FREQEUNCY DISTRIBUTION # converges to MNE\n",
    "\n",
    "p1Init = 0.6\n",
    "p2Init = 0.4\n",
    "frequencyStrategy1Action1, frequencyStrategy2Action1 = calculateFrequencies(p1Init, p2Init,\n",
    "                                                                            iterations, payoff1,\n",
    "                                                                            payoff2, \"NormalizedEG\")\n",
    "\n",
    "plotFrequencies(iterations, frequencyStrategy1Action1, frequencyStrategy2Action1,\n",
    "                nameOfStrategy1, nameOfStrategy2, gameName, \"NormalizedEG\")"
   ]
  },
  {
   "cell_type": "code",
   "execution_count": null,
   "metadata": {},
   "outputs": [],
   "source": [
    "########## Online Mirror Ascent One Update Step #############\n",
    "\n",
    "diff1, diff2 = updateStrategy(iterations, gridSize, payoff1, payoff2, \"NormalizedEG\")"
   ]
  },
  {
   "cell_type": "code",
   "execution_count": null,
   "metadata": {},
   "outputs": [],
   "source": [
    "#quiver plot\n",
    "#note plotType should be \"quiver\" or \"stream\"\n",
    "#The last three argument are optional. If a stable regions w.r.t some Nash Equilibria\n",
    "#should be plotted they all three have to be provided\n",
    "plot(gridSize, diff1, diff2, pne, mne, gameName, nameOfStrategy1, nameOfStrategy2, \"NormalizedEG\", \"quiver\")"
   ]
  },
  {
   "cell_type": "code",
   "execution_count": null,
   "metadata": {
    "scrolled": true
   },
   "outputs": [],
   "source": [
    "#streamPlot:\n",
    "plot(gridSize, diff1, diff2, pne, mne, gameName, nameOfStrategy1, nameOfStrategy2, \"NormalizedEG\", \"stream\")"
   ]
  },
  {
   "cell_type": "code",
   "execution_count": null,
   "metadata": {
    "pycharm": {
     "name": "#%%\n"
    }
   },
   "outputs": [],
   "source": [
    "#Check the stability of one specific point\n",
    "point1 = checkStability(0.4, 0.1, payoff1, payoff2, mne[0])\n",
    "print(point1)"
   ]
  },
  {
   "cell_type": "code",
   "execution_count": null,
   "metadata": {},
   "outputs": [],
   "source": [
    "#plotting a single trajectory\n",
    "\n",
    "p1Init = 0.5\n",
    "p2Init = 0.6\n",
    "\n",
    "p1, p2 = trajectory(p1Init, p2Init, iterations, payoff1, payoff2, \"NormalizedEG\")\n",
    "plotTrajectory(p1Init, p2Init, p1, p2, pne, mne, gameName, nameOfStrategy1, nameOfStrategy2, \"NormalizedEG\")"
   ]
  },
  {
   "cell_type": "code",
   "execution_count": null,
   "metadata": {},
   "outputs": [],
   "source": [
    "########## Online Gradient Ascent One Update Step #############\n",
    "\n",
    "diff1, diff2 = updateStrategy(iterations, gridSize, payoff1, payoff2, \"ProjOGA\")"
   ]
  },
  {
   "cell_type": "code",
   "execution_count": null,
   "metadata": {},
   "outputs": [],
   "source": [
    "#quiver plot\n",
    "#note last argument should be \"quiver\" or \"stream\"\n",
    "plot(gridSize, diff1, diff2, pne, mne, gameName, nameOfStrategy1, nameOfStrategy2, \"ProjOGA\", \"stream\")"
   ]
  },
  {
   "cell_type": "code",
   "execution_count": null,
   "metadata": {
    "pycharm": {
     "name": "#%%\n"
    }
   },
   "outputs": [],
   "source": [
    "#plotting a single trajectory\n",
    "\n",
    "p1Init = 0.1\n",
    "p2Init = 0.1\n",
    "\n",
    "p1, p2 = trajectory(p1Init, p2Init, iterations, payoff1, payoff2, \"ProjOGA\")\n",
    "plotTrajectory(p1Init, p2Init, p1, p2, pne, mne, gameName, nameOfStrategy1, nameOfStrategy2, \"ProjOGA\")"
   ]
  }
 ],
 "metadata": {
  "kernelspec": {
   "display_name": "Python 3",
   "language": "python",
   "name": "python3"
  },
  "language_info": {
   "codemirror_mode": {
    "name": "ipython",
    "version": 3
   },
   "file_extension": ".py",
   "mimetype": "text/x-python",
   "name": "python",
   "nbconvert_exporter": "python",
   "pygments_lexer": "ipython3",
   "version": "3.8.5"
  }
 },
 "nbformat": 4,
 "nbformat_minor": 4
}
