{
 "cells": [
  {
   "cell_type": "markdown",
   "metadata": {},
   "source": [
    "# Vector Field Example"
   ]
  },
  {
   "cell_type": "code",
   "execution_count": null,
   "metadata": {},
   "outputs": [],
   "source": [
    "import matplotlib.pyplot as plt\n",
    "import numpy as np\n",
    "from IPython import display"
   ]
  },
  {
   "cell_type": "code",
   "execution_count": null,
   "metadata": {},
   "outputs": [],
   "source": [
    "display.Image(\"/Users/henningheyen/Desktop/Studium/TUM/BachelorThesis/Git/NoRegretLearning/Screenshots/BattleOfSexesWikipedia.png\", width = 300)\n",
    "#PNE: (F,F), (B,B)\n",
    "#MNE: P1: (F:3/5,B:2/5) P2: (F:2/5,B:3/5)"
   ]
  },
  {
   "cell_type": "code",
   "execution_count": null,
   "metadata": {},
   "outputs": [],
   "source": [
    "# number of iterations\n",
    "T = int(20)\n",
    "\n",
    "#number of players\n",
    "n = 2\n",
    "\n",
    "#number of strategies (F: Fight, B: Ballet) \n",
    "d = 2\n",
    "\n",
    "#Lipschitz Constant\n",
    "L = 1\n",
    "\n",
    "#step size \n",
    "eta = np.sqrt(np.log(d))/(L*np.sqrt(2*T))\n",
    "#eta = 0.4"
   ]
  },
  {
   "cell_type": "code",
   "execution_count": null,
   "metadata": {},
   "outputs": [],
   "source": [
    "######### Payoff Matrix #########\n",
    "A = np.array([[3,0],[0,2]])\n",
    "\n",
    "\n",
    "# payoff matrix player 2:\n",
    "B = np.array([[2,0],[0,3]])\n",
    "\n",
    "print(\"A: \\n\" + str(A))\n",
    "print(\"B: \\n\" + str(B))"
   ]
  },
  {
   "cell_type": "code",
   "execution_count": null,
   "metadata": {},
   "outputs": [],
   "source": [
    "#number of vectors in the plot = gridSize^2\n",
    "gridSize = 15\n",
    "\n",
    "#P1(Strategy[0]), P2(Strategy[0])\n",
    "p1 = p2 = np.linspace(0,1,gridSize)\n",
    "\n",
    "########## Online Gradient Ascent Algorithm #############\n",
    "\n",
    "#store difference in strategies after one update step for player 1, player 2\n",
    "diff1 = np.zeros((gridSize, gridSize))\n",
    "diff2 = np.zeros((gridSize, gridSize))\n",
    "\n",
    "for i in range(gridSize):\n",
    "    for j in range(gridSize):\n",
    "        \n",
    "        #current probabilities x,y\n",
    "        x = p1[i]\n",
    "        y = p2[j]\n",
    "        \n",
    "        #current strategy\n",
    "        strategy1_before = np.array([x, 1-x])  \n",
    "        strategy2_before = np.array([y, 1-y]) \n",
    "\n",
    "        # compute gradient\n",
    "        grad1 = A.dot(strategy2_before)\n",
    "        grad2 = strategy1_before.transpose().dot(B) \n",
    "\n",
    "        # update strategy (OMA with entropic regularizer)\n",
    "        strategy1_after = strategy1_before*np.exp(eta*grad1)/sum(strategy1_before*np.exp(eta*grad1))\n",
    "        strategy2_after = strategy2_before*np.exp(eta*grad2)/sum(strategy2_before*np.exp(eta*grad2))\n",
    "\n",
    "        #current difference\n",
    "        diff1_temp = strategy1_after - strategy1_before\n",
    "        diff2_temp = strategy2_after - strategy2_before\n",
    "        \n",
    "        #store result in difference matrix\n",
    "        diff1[j][i] =  diff1_temp[0]\n",
    "        diff2[j][i] =  diff2_temp[0]\n",
    "        "
   ]
  },
  {
   "cell_type": "code",
   "execution_count": null,
   "metadata": {},
   "outputs": [],
   "source": [
    "#create meshgrid\n",
    "X,Y = np.meshgrid(p1,p2)\n",
    "#create vector field\n",
    "plt.figure(figsize=(6,6), dpi=100)\n",
    "plt.quiver(X, Y, diff1, diff2, pivot=\"middle\", color=\"#0065BD\")\n",
    "#PNE\n",
    "plt.scatter(1,1, color='#000000',marker='o',s=100, label='Pure NE', zorder=2)\n",
    "plt.scatter(0,0, color='#000000',marker='o',s=100, zorder=2 )\n",
    "#MNE\n",
    "plt.scatter(3/5,2/5, color='#000000',marker='*',s=150, label='Mixed NE', zorder=2)\n",
    "plt.axis(\"scaled\")\n",
    "plt.xlabel('P(Fight) Player 1', fontsize=15)\n",
    "plt.ylabel('P(Fight) Player 2', fontsize=15)\n",
    "plt.title('Battle of Sexes', fontsize=16, fontweight='bold')\n",
    "plt.legend(fontsize=12, loc='best', bbox_to_anchor=(1, 1))\n",
    "plt.show()"
   ]
  },
  {
   "cell_type": "code",
   "execution_count": null,
   "metadata": {},
   "outputs": [],
   "source": [
    "plt.figure(figsize=(6,6), dpi=100)\n",
    "plt.streamplot(X, Y, diff1, diff2, density = 1.5, color=\"#0065BD\")\n",
    "#PNE\n",
    "plt.scatter([1], [1], color='#000000',marker='o',s=100, label='Pure NE', zorder=2)\n",
    "plt.scatter([0], [0], color='#000000',marker='o',s=100, zorder=2)\n",
    "#MNE\n",
    "plt.scatter([3/5], [2/5], color='#000000',marker='*',s=150, label='Mixed NE', zorder=2)\n",
    "plt.axis(\"scaled\")\n",
    "plt.xlabel('P(Fight) Player 1', fontsize=15)\n",
    "plt.ylabel('P(Fight) Player 2', fontsize=15)\n",
    "plt.title('Battle of Sexes', fontsize=16, fontweight='bold')\n",
    "plt.legend(fontsize=12, loc='best', bbox_to_anchor=(1, 1))\n",
    "plt.show()"
   ]
  },
  {
   "cell_type": "code",
   "execution_count": null,
   "metadata": {},
   "outputs": [],
   "source": [
    "plot()"
   ]
  }
 ],
 "metadata": {
  "kernelspec": {
   "display_name": "Python 3",
   "language": "python",
   "name": "python3"
  },
  "language_info": {
   "codemirror_mode": {
    "name": "ipython",
    "version": 3
   },
   "file_extension": ".py",
   "mimetype": "text/x-python",
   "name": "python",
   "nbconvert_exporter": "python",
   "pygments_lexer": "ipython3",
   "version": "3.8.5"
  }
 },
 "nbformat": 4,
 "nbformat_minor": 4
}
