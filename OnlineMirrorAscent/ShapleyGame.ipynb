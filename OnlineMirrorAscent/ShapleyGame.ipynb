{
 "cells": [
  {
   "cell_type": "markdown",
   "metadata": {},
   "source": [
    "# Shapley Game"
   ]
  },
  {
   "cell_type": "code",
   "execution_count": null,
   "metadata": {},
   "outputs": [],
   "source": [
    "import numpy as np\n",
    "from IPython import display\n",
    "from ThreeTimesThreeFunctions import updateStrategy, plot, calculateFrequencies, plotFrequencies, systematicPlots, randomPlots"
   ]
  },
  {
   "cell_type": "code",
   "execution_count": null,
   "metadata": {},
   "outputs": [],
   "source": [
    "display.Image(\"/Users/henningheyen/Desktop/Studium/TUM/BachelorThesis/Git/NoRegretLearning/Screenshots/Shapley.png\", width = 300)"
   ]
  },
  {
   "cell_type": "code",
   "execution_count": null,
   "metadata": {},
   "outputs": [],
   "source": [
    "######### Initialization ######### (note: utility maximization)\n",
    "\n",
    "# player 1:\n",
    "payoff1 = np.array([[1,0,0],[0,1,0],[0,0,1]])\n",
    "\n",
    "# player 2:\n",
    "payoff2 = np.array([[0,1,0],[0,0,1],[1,0,0]])\n",
    "\n",
    "#number of iterations\n",
    "iterations = int(2000)\n",
    "\n",
    "#game title\n",
    "gameName = \"Shapley Game\"\n",
    "\n",
    "#name of actions. Strategy1 refers to player 1\n",
    "nameOfStrategy1Action1 = \"T\"\n",
    "nameOfStrategy1Action2 = \"M\"\n",
    "nameOfStrategy1Action3 = \"B\"\n",
    "nameOfStrategy2Action1 = \"L\"\n",
    "nameOfStrategy2Action2 = \"C\"\n",
    "nameOfStrategy2Action3 = \"R\"\n",
    "\n",
    "strategyNames = [nameOfStrategy1Action1,nameOfStrategy1Action2, nameOfStrategy1Action3,\n",
    "                nameOfStrategy2Action1, nameOfStrategy2Action2, nameOfStrategy2Action3]\n",
    "\n",
    "######### Equilibria #########\n",
    "\n",
    "#Pure Nash Equilibria \n",
    "pne = []\n",
    "\n",
    "#Mixed Nash Equilibria \n",
    "#sytax: [..., [[P(Strategy1Action1), P(Strategy2Action2), P(Strategy2Action3)],\n",
    "#              [P(Strategy2Action1), P(Strategy2Action2), P(Strategy2Action3)]], ...]\n",
    "mne = [[[1/3,1/3,1/3],[1/3,1/3,1/3]]]"
   ]
  },
  {
   "cell_type": "code",
   "execution_count": null,
   "metadata": {},
   "outputs": [],
   "source": [
    "# INITIALIAL STRATEGY # \n",
    "strategy1init = np.array([1/9,2/9,6/9])\n",
    "strategy2init = np.array([2/7,4/7,1/7])"
   ]
  },
  {
   "cell_type": "code",
   "execution_count": null,
   "metadata": {},
   "outputs": [],
   "source": [
    "# NORMALIZED EXPONENTIALED GRADIENT #\n",
    "\n",
    "strategy1, strategy2 = updateStrategy(iterations, payoff1, payoff2, strategy1init, strategy2init, \"NormalizedEG\")\n",
    "plot(iterations, strategy1, strategy2, gameName, strategyNames, \"NormalizedEG\")"
   ]
  },
  {
   "cell_type": "code",
   "execution_count": null,
   "metadata": {},
   "outputs": [],
   "source": [
    "# ONLINE GRADIENT ASCENT WITH LAZY PROJECTION #\n",
    "\n",
    "strategy1, strategy2 = updateStrategy(iterations, payoff1, payoff2, strategy1init, strategy2init, \"ProjOGA\")\n",
    "plot(iterations, strategy1, strategy2, gameName, strategyNames, \"ProjOGA\")"
   ]
  },
  {
   "cell_type": "code",
   "execution_count": null,
   "metadata": {},
   "outputs": [],
   "source": [
    "n_per_dim = 3\n",
    "systematicPlots(n_per_dim, gameName, strategyNames,\n",
    "                    iterations, payoff1, payoff2, \"ProjOGA\", figsize = 4)"
   ]
  },
  {
   "cell_type": "code",
   "execution_count": null,
   "metadata": {},
   "outputs": [],
   "source": [
    "randomPlots(10, gameName, strategyNames, iterations, payoff1, payoff2, \"ProjOGA\", figsize=4)"
   ]
  },
  {
   "cell_type": "code",
   "execution_count": null,
   "metadata": {},
   "outputs": [],
   "source": [
    "# EMPIRICAL FREQEUNCY DISTRIBUTION # \n",
    "\n",
    "p11Init = 0.1\n",
    "p12Init = 0.1\n",
    "p13Init = 0.8\n",
    "p21Init = 0.3\n",
    "p22Init = 0.1\n",
    "p23Init = 0.6\n",
    "\n",
    "iterations = int(200000)\n",
    "\n",
    "pInit = [p11Init, p12Init, p13Init, p21Init, p22Init, p23Init]\n",
    "\n",
    "frequencies = calculateFrequencies(pInit, iterations, payoff1, payoff2, \"NormalizedEG\")\n",
    "plotFrequencies(iterations, frequencies, strategyNames, gameName, \"NormalizedEG\")"
   ]
  },
  {
   "cell_type": "code",
   "execution_count": null,
   "metadata": {},
   "outputs": [],
   "source": []
  }
 ],
 "metadata": {
  "kernelspec": {
   "display_name": "Python 3",
   "language": "python",
   "name": "python3"
  },
  "language_info": {
   "codemirror_mode": {
    "name": "ipython",
    "version": 3
   },
   "file_extension": ".py",
   "mimetype": "text/x-python",
   "name": "python",
   "nbconvert_exporter": "python",
   "pygments_lexer": "ipython3",
   "version": "3.8.5"
  }
 },
 "nbformat": 4,
 "nbformat_minor": 5
}
