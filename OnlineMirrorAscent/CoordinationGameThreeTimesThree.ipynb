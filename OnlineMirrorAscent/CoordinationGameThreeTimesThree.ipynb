{
 "cells": [
  {
   "cell_type": "markdown",
   "metadata": {},
   "source": [
    "# Coordination Game 3x3"
   ]
  },
  {
   "cell_type": "code",
   "execution_count": null,
   "metadata": {
    "pycharm": {
     "is_executing": true
    }
   },
   "outputs": [],
   "source": [
    "import matplotlib.pyplot as plt\n",
    "import numpy as np\n",
    "from IPython import display"
   ]
  },
  {
   "cell_type": "code",
   "execution_count": null,
   "metadata": {},
   "outputs": [],
   "source": [
    "display.Image(\"/Users/henningheyen/Desktop/Studium/TUM/BachelorThesis/Git/NoRegretLearning/Screenshots/CoordinationGameWikipedia.png\", width = 300)\n",
    "#PNE: (T,L), (M,C), (B,R)\n",
    "#MNE: [[(T:2/11, M:3/11, B:6/11),((L:2/11, C:3/11, R:6/11))],\n",
    "#      [(T:0, M:1/3, B:2/3),((L:0, C:1/3, R:2/3))],\n",
    "#      [(T:1/4, M:0, B:3/4),((L:1/4, C:0, R:3/4))],\n",
    "#      [(T:2/5, M:3/5, B:0),((L:2/5, C:3/5, R:0))]]"
   ]
  },
  {
   "cell_type": "code",
   "execution_count": null,
   "metadata": {},
   "outputs": [],
   "source": [
    "# number of iterations\n",
    "T = int(100)\n",
    "\n",
    "#number of players\n",
    "n = 2\n",
    "\n",
    "#number of strategies (C: Confess, S: Stay Silent) \n",
    "d = 3\n",
    "\n",
    "#Lipschitz Constant\n",
    "#todo: Ist f wirklich 1-Lipschitz?\n",
    "L = 1\n",
    "\n",
    "#step size \n",
    "eta = np.sqrt(np.log(d))/(L*np.sqrt(2*T))\n",
    "#eta = 0.4\n"
   ]
  },
  {
   "cell_type": "code",
   "execution_count": null,
   "metadata": {},
   "outputs": [],
   "source": [
    "######### Payoff Matrix #########\n",
    "\n",
    "# payoff matrix player 1:\n",
    "A = np.array([[3,0,0],[0,2,0],[0,0,1]])\n",
    "\n",
    "# payoff matrix player 2:\n",
    "B = A\n",
    "\n",
    "print(\"A: \\n\" + str(A))\n",
    "print(\"B: \\n\" + str(B))"
   ]
  },
  {
   "cell_type": "code",
   "execution_count": null,
   "metadata": {},
   "outputs": [],
   "source": [
    "######### Inizialization #########\n",
    "p1_L = 1/3\n",
    "p1_C = 1/3\n",
    "p1_R = 1/3\n",
    "p2_T = 1/3\n",
    "p2_M = 1/3\n",
    "p2_B = 1/3\n",
    "\n",
    "strategy1 = [np.array([p1_L,p1_C,p1_R])]  \n",
    "strategy2 = [np.array([p2_T,p2_M,p2_B])] \n",
    "\n",
    "print(\"Strategy Player 1: \\n\" + str(strategy1))\n",
    "print(\"Strategy Player 2: \\n\" + str(strategy2))\n",
    "\n",
    "\n",
    "# list to store results\n",
    "p1, p2 = [(p1_L,p1_C,p1_R)], [(p2_T,p2_M,p2_B)]\n",
    "\n",
    "\n",
    "########## Online Gradient Ascent Algorithm #############\n",
    "\n",
    "for t in range(T):\n",
    "\n",
    "    # compute gradient\n",
    "    grad1 = A.dot(strategy2[t])\n",
    "    grad2 = strategy1[t].dot(B) \n",
    "    \n",
    "    strategy1 += [strategy1[t]*np.exp(eta*grad1)/sum(strategy1[t]*np.exp(eta*grad1))]\n",
    "    strategy2 += [strategy2[t]*np.exp(eta*grad2)/sum(strategy2[t]*np.exp(eta*grad2))]"
   ]
  },
  {
   "cell_type": "code",
   "execution_count": null,
   "metadata": {},
   "outputs": [],
   "source": [
    "plt.plot(strategy1)\n",
    "plt.show()\n",
    "\n",
    "plt.plot(strategy2)\n",
    "plt.show()\n",
    "\n",
    "\n"
   ]
  },
  {
   "cell_type": "code",
   "execution_count": null,
   "metadata": {},
   "outputs": [],
   "source": []
  }
 ],
 "metadata": {
  "kernelspec": {
   "display_name": "Python 3",
   "language": "python",
   "name": "python3"
  },
  "language_info": {
   "codemirror_mode": {
    "name": "ipython",
    "version": 3
   },
   "file_extension": ".py",
   "mimetype": "text/x-python",
   "name": "python",
   "nbconvert_exporter": "python",
   "pygments_lexer": "ipython3",
   "version": "3.8.5"
  }
 },
 "nbformat": 4,
 "nbformat_minor": 5
}
