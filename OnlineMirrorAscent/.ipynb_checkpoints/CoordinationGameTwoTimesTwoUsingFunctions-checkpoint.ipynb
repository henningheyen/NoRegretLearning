{
 "cells": [
  {
   "cell_type": "markdown",
   "metadata": {},
   "source": [
    "# Coordination Game 2x2 using Functions"
   ]
  },
  {
   "cell_type": "code",
   "execution_count": null,
   "metadata": {},
   "outputs": [],
   "source": [
    "import numpy as np\n",
    "from IPython import display\n",
    "from TwoTimesTwoGamesFunctions import updateStrategy, plot, trajectory, plotTrajectory, computeStablePoints, plotStableRegion, checkStability"
   ]
  },
  {
   "cell_type": "code",
   "execution_count": null,
   "metadata": {},
   "outputs": [],
   "source": [
    "#image of the game\n",
    "display.Image(\"/Users/henningheyen/Desktop/Studium/TUM/BachelorThesis/Git/NoRegretLearning/Screenshots/CoordinationGameTwoPlayerWikipedia.png\", width = 500)"
   ]
  },
  {
   "cell_type": "code",
   "execution_count": null,
   "metadata": {},
   "outputs": [],
   "source": [
    "######### Initialization ######### (note: utility maximization)\n",
    "\n",
    "# player 1:\n",
    "payoff1 = np.array([[5,0],[0,3]])\n",
    "\n",
    "# player 2:\n",
    "payoff2 = np.array([[5,0],[0,3]])\n",
    "\n",
    "#number of iterations\n",
    "iterations = int(20)\n",
    "\n",
    "#number of vectors in the plot = gridSize^2\n",
    "gridSize = 15\n",
    "\n",
    "#game title\n",
    "gameName = \"2x2 Coordination Game\"\n",
    "\n",
    "#name of first strategy \n",
    "nameOfStrategy1 = \"Up\"\n",
    "nameOfStrategy2 = \"Left\"\n",
    "\n",
    "######### Equilibria #########\n",
    "\n",
    "#Pure Nash Equilibria \n",
    "pne = [[1,1],[0,0]]\n",
    "\n",
    "#Mixed Nash Equilibria \n",
    "#sytax: (..., (P1(strategy1),P2(strategy1)), ... )\n",
    "mne = [[3/8,3/8]]"
   ]
  },
  {
   "cell_type": "code",
   "execution_count": null,
   "metadata": {},
   "outputs": [],
   "source": [
    "########## Online Mirror Ascent One Update Step #############\n",
    "\n",
    "diff1, diff2 = updateStrategy(iterations, gridSize, payoff1, payoff2, \"NormalizedEG\")"
   ]
  },
  {
   "cell_type": "code",
   "execution_count": null,
   "metadata": {},
   "outputs": [],
   "source": [
    "#quiver plot\n",
    "#note plotType should be \"quiver\" or \"stream\"\n",
    "#The last three argument are optional. If a stable regions w.r.t some Nash Equilibria\n",
    "#should be plotted they all three have to be provided\n",
    "plot(gridSize, diff1, diff2, pne, mne, gameName, nameOfStrategy1, nameOfStrategy2, \"NormalizedEG\", \"quiver\",\n",
    "    payoff1, payoff2, [pne[0]])"
   ]
  },
  {
   "cell_type": "code",
   "execution_count": null,
   "metadata": {},
   "outputs": [],
   "source": [
    "#streamPlot:\n",
    "plot(gridSize, diff1, diff2, pne, mne, gameName, nameOfStrategy1, nameOfStrategy2, \n",
    "     \"NormalizedEG\", \"stream\", payoff1, payoff2, [pne[0]])"
   ]
  },
  {
   "cell_type": "code",
   "execution_count": null,
   "metadata": {},
   "outputs": [],
   "source": [
    "#Check the stability of one specific point\n",
    "point1 = checkStability(0.5, 0.4, payoff1, payoff2, pne[0])\n",
    "print(point1)"
   ]
  },
  {
   "cell_type": "code",
   "execution_count": null,
   "metadata": {},
   "outputs": [],
   "source": [
    "#plotting a single trajectory\n",
    "\n",
    "p1Init = 0.3\n",
    "p2Init = 0.1\n",
    "\n",
    "p1, p2 = trajectory(p1Init, p2Init, iterations, payoff1, payoff2, \"ProjOGA\")\n",
    "plotTrajectory(p1Init, p2Init, p1, p2, pne, mne, gameName, nameOfStrategy1, nameOfStrategy2, \"ProjOGA\",\n",
    "              payoff1, payoff2, [pne[1]])"
   ]
  },
  {
   "cell_type": "code",
   "execution_count": null,
   "metadata": {},
   "outputs": [],
   "source": [
    "########## Online Gradient Ascent One Update Step #############\n",
    "\n",
    "diff1, diff2 = updateStrategy(iterations, gridSize, payoff1, payoff2, \"ProjOGA\")"
   ]
  },
  {
   "cell_type": "code",
   "execution_count": null,
   "metadata": {},
   "outputs": [],
   "source": [
    "#quiver plot\n",
    "#note last argument should be \"quiver\" or \"stream\"\n",
    "plot(gridSize, diff1, diff2, pne, mne, gameName, nameOfStrategy1, nameOfStrategy2, \"ProjOGA\", \"quiver\",\n",
    "    payoff1, payoff2, [pne[1]])"
   ]
  },
  {
   "cell_type": "code",
   "execution_count": null,
   "metadata": {},
   "outputs": [],
   "source": [
    "#streamPlot:\n",
    "plot(gridSize, diff1, diff2, pne, mne, gameName, nameOfStrategy1, nameOfStrategy2, \"ProjOGA\", \"stream\")"
   ]
  },
  {
   "cell_type": "code",
   "execution_count": null,
   "metadata": {},
   "outputs": [],
   "source": [
    "#plotting a single trajectory\n",
    "\n",
    "p1Init = 0.3\n",
    "p2Init = 0.1\n",
    "\n",
    "p1, p2 = trajectory(p1Init, p2Init, iterations, payoff1, payoff2, \"ProjOGA\")\n",
    "print(p1)\n",
    "plotTrajectory(p1Init, p2Init, p1, p2, pne, mne, gameName, nameOfStrategy1, nameOfStrategy2, \"ProjOGA\")"
   ]
  },
  {
   "cell_type": "code",
   "execution_count": null,
   "metadata": {},
   "outputs": [],
   "source": []
  }
 ],
 "metadata": {
  "kernelspec": {
   "display_name": "Python 3",
   "language": "python",
   "name": "python3"
  },
  "language_info": {
   "codemirror_mode": {
    "name": "ipython",
    "version": 3
   },
   "file_extension": ".py",
   "mimetype": "text/x-python",
   "name": "python",
   "nbconvert_exporter": "python",
   "pygments_lexer": "ipython3",
   "version": "3.8.5"
  }
 },
 "nbformat": 4,
 "nbformat_minor": 5
}
