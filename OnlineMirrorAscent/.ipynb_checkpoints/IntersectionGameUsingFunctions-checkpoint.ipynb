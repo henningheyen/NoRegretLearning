{
 "cells": [
  {
   "cell_type": "markdown",
   "metadata": {},
   "source": [
    "# Intersection Game using Functions"
   ]
  },
  {
   "cell_type": "code",
   "execution_count": 2,
   "metadata": {
    "pycharm": {
     "is_executing": true
    }
   },
   "outputs": [],
   "source": [
    "import numpy as np\n",
    "from IPython import display\n",
    "from TwoTimesTwoGamesFunctions import updateStrategy, plot, trajectory, plotTrajectory, computeStablePoints, plotStableRegion, checkStability, calculateFrequencies, plotFrequencies"
   ]
  },
  {
   "cell_type": "code",
   "execution_count": 3,
   "metadata": {},
   "outputs": [
    {
     "data": {
      "image/png": "[encoded data removed]",
      "text/plain": [
       "<IPython.core.display.Image object>"
      ]
     },
     "execution_count": 3,
     "metadata": {
      "image/png": {
       "width": 300
      }
     },
     "output_type": "execute_result"
    }
   ],
   "source": [
    "#Got this from lec08 Correlated Equilibria (https://www.cis.upenn.edu/~aaroth/courses/slides/agt17/lect08.pdf)\n",
    "display.Image(\"/Users/henningheyen/Desktop/Studium/TUM/BachelorThesis/Git/NoRegretLearning/Screenshots/TrafficLight.png\", width = 300)"
   ]
  },
  {
   "cell_type": "code",
   "execution_count": null,
   "metadata": {},
   "outputs": [],
   "source": [
    "######### Initialization ######### (note: utility maximization)\n",
    "\n",
    "# player 1:\n",
    "payoff1 = np.array([[0,0],[1,-100]])\n",
    "\n",
    "# player 2:\n",
    "payoff2 = np.array([[0,1],[0,-100]])\n",
    "\n",
    "#number of iterations\n",
    "iterations = int(20)\n",
    "\n",
    "#number of vectors in the plot = gridSize^2\n",
    "gridSize = 15\n",
    "\n",
    "#game title\n",
    "gameName = \"Intersection\"\n",
    "\n",
    "#name of first strategy \n",
    "nameOfStrategy1 = \"Stop\"\n",
    "nameOfStrategy2 = \"Stop\"\n",
    "\n",
    "######### Equilibria #########\n",
    "\n",
    "#Pure Nash Equilibria\n",
    "pne = [[0,1],[1,0]]\n",
    "\n",
    "#Mixed Nash Equilibria \n",
    "#sytax: (..., (P1(strategy1),P2(strategy1)), ... )\n",
    "mne = [[100/101,100/101]]\n",
    "\n",
    "#PNE: (STOP,GO), (GO,STOP)\n",
    "#MNE: Player1(STOP: 100/101, GO: 1/101), Player2(STOP: 100/101, GO: 1/101)\n"
   ]
  },
  {
   "cell_type": "code",
   "execution_count": null,
   "metadata": {},
   "outputs": [],
   "source": [
    "########## Online Mirror Ascent One Update Step #############\n",
    "\n",
    "diff1, diff2 = updateStrategy(iterations, gridSize, payoff1, payoff2, \"NormalizedEG\")"
   ]
  },
  {
   "cell_type": "code",
   "execution_count": null,
   "metadata": {},
   "outputs": [],
   "source": [
    "#quiver plot\n",
    "#note plotType should be \"quiver\" or \"stream\"\n",
    "#The last three argument are optional. If a stable regions w.r.t some Nash Equilibria\n",
    "#should be plotted they all three have to be provided\n",
    "plot(gridSize, diff1, diff2, pne, mne, gameName, nameOfStrategy1, nameOfStrategy2, \"NormalizedEG\", \"quiver\",\n",
    "    payoff1, payoff2, [pne[0]])"
   ]
  },
  {
   "cell_type": "code",
   "execution_count": null,
   "metadata": {
    "scrolled": true
   },
   "outputs": [],
   "source": [
    "#streamPlot:\n",
    "plot(gridSize, diff1, diff2, pne, mne, gameName, nameOfStrategy1, nameOfStrategy2, \"NormalizedEG\", \"stream\",\n",
    "     payoff1, payoff2, [pne[0],pne[1]])"
   ]
  },
  {
   "cell_type": "code",
   "execution_count": null,
   "metadata": {},
   "outputs": [],
   "source": [
    "#Check the stability of one specific point\n",
    "point1 = checkStability(0.4, 0.1, payoff1, payoff2, pne[0])\n",
    "print(point1)"
   ]
  },
  {
   "cell_type": "code",
   "execution_count": null,
   "metadata": {},
   "outputs": [],
   "source": [
    "#plotting a single trajectory\n",
    "\n",
    "p1Init = 0.2\n",
    "p2Init = 0.7\n",
    "\n",
    "p1, p2 = trajectory(p1Init, p2Init, 50, payoff1, payoff2, \"NormalizedEG\")\n",
    "plotTrajectory(p1Init, p2Init, p1, p2, pne, mne, gameName, nameOfStrategy1, nameOfStrategy2, \"NormalizedEG\")"
   ]
  },
  {
   "cell_type": "code",
   "execution_count": null,
   "metadata": {},
   "outputs": [],
   "source": [
    "########## Online Gradient Ascent One Update Step #############\n",
    "\n",
    "diff1, diff2 = updateStrategy(iterations, gridSize, payoff1, payoff2, \"ProjOGA\")"
   ]
  },
  {
   "cell_type": "code",
   "execution_count": null,
   "metadata": {
    "scrolled": true
   },
   "outputs": [],
   "source": [
    "#quiver plot\n",
    "#note last argument should be \"quiver\" or \"stream\"\n",
    "plot(gridSize, diff1, diff2, pne, mne, gameName, nameOfStrategy1, nameOfStrategy2, \"ProjOGA\", \"quiver\")"
   ]
  },
  {
   "cell_type": "code",
   "execution_count": null,
   "metadata": {
    "scrolled": true
   },
   "outputs": [],
   "source": [
    "#streamPlot:\n",
    "plot(gridSize, diff1, diff2, pne, mne, gameName, nameOfStrategy1, nameOfStrategy2, \"ProjOGA\", \"stream\")"
   ]
  },
  {
   "cell_type": "code",
   "execution_count": null,
   "metadata": {},
   "outputs": [],
   "source": [
    "#plotting a single trajectory\n",
    "\n",
    "p1Init = 0.2\n",
    "p2Init = 0.7\n",
    "\n",
    "p1, p2 = trajectory(p1Init, p2Init, iterations, payoff1, payoff2, \"ProjOGA\")\n",
    "plotTrajectory(p1Init, p2Init, p1, p2, pne, mne, gameName, nameOfStrategy1, nameOfStrategy2, \"ProjOGA\")"
   ]
  },
  {
   "cell_type": "code",
   "execution_count": null,
   "metadata": {},
   "outputs": [],
   "source": []
  }
 ],
 "metadata": {
  "kernelspec": {
   "display_name": "Python 3",
   "language": "python",
   "name": "python3"
  },
  "language_info": {
   "codemirror_mode": {
    "name": "ipython",
    "version": 3
   },
   "file_extension": ".py",
   "mimetype": "text/x-python",
   "name": "python",
   "nbconvert_exporter": "python",
   "pygments_lexer": "ipython3",
   "version": "3.8.5"
  }
 },
 "nbformat": 4,
 "nbformat_minor": 4
}
