{
 "cells": [
  {
   "cell_type": "code",
   "execution_count": null,
   "metadata": {},
   "outputs": [],
   "source": [
    "import matplotlib.pyplot as plt\n",
    "import numpy as np\n",
    "from IPython import display"
   ]
  },
  {
   "cell_type": "markdown",
   "metadata": {},
   "source": [
    "# Matching Pennies"
   ]
  },
  {
   "cell_type": "code",
   "execution_count": null,
   "metadata": {
    "scrolled": true
   },
   "outputs": [],
   "source": [
    "display.Image(\"/Users/henningheyen/Desktop/Studium/TUM/BachelorThesis/Git/NoRegretLearning/Screenshots/MatchingPenniesWikipedia.png\", width = 300)"
   ]
  },
  {
   "cell_type": "code",
   "execution_count": null,
   "metadata": {},
   "outputs": [],
   "source": [
    "# number of iterations\n",
    "T = int(1000)\n",
    "\n",
    "#number of players\n",
    "n = 2\n",
    "\n",
    "#number of strategies \n",
    "d = 2\n",
    "\n",
    "#Lipschitz Constant\n",
    "L = 1\n",
    "\n",
    "\n",
    "\n",
    "#Mirror Descent in this case uses entropic regularization: R(x) = sum_i=1^d(x[i] * log(x[i])) (which is 1 strongly convex over the probability simplex (Shalev-Shwartz, p.136))\n",
    "#for online mirror descent step size should be: eta = sqrt(log(d))/(L*sqrt(2T)) (Shalev-Shwartz, p.140)\n",
    "#where,\n",
    "#d:dimension (number of strategies)\n",
    "#L: Lipschitz constance\n",
    "#T: number of Iterations\n",
    "#this eta yields regret bound of: Regret_T(S) <= B*L*sqrt(2*log(d)*T), note: This is better than Gradient Descent using Euclidean Regularizer\n",
    "#where S = {x : l1norm(x) = B AND x > 0}\n",
    "\n",
    "\n",
    "#step size \n",
    "#proper eta\n",
    "eta = np.sqrt(np.log(d))/(L*np.sqrt(2*T))\n",
    "print(eta)\n",
    "#eta = 0.4\n",
    "\n",
    "p1 = p2 = np.linspace(0, 1, gridSize)\n",
    "x, y = np.meshgrid(p1, p2)\n",
    "\n",
    "print(x)\n"
   ]
  },
  {
   "cell_type": "code",
   "execution_count": null,
   "metadata": {},
   "outputs": [],
   "source": [
    "######### MATCHING PENNIES #########\n",
    "\n",
    "# payoff matrix player 1:\n",
    "A = np.array([[1,-1],[-1,1]])\n",
    "\n",
    "# payoff matrix player 2:\n",
    "B = -A"
   ]
  },
  {
   "cell_type": "code",
   "execution_count": null,
   "metadata": {},
   "outputs": [],
   "source": [
    "######### INITIALIZATION #########\n",
    "p1_Head = 0.4\n",
    "p2_Head = 0.4\n",
    "strategy1 = np.array([p1_Head, 1-p1_Head])  \n",
    "strategy2 = np.array([p2_Head, 1-p2_Head]) \n",
    "\n",
    "    \n",
    "# list to store results\n",
    "p1, p2 = [p1_Head], [p2_Head]\n",
    "\n",
    "########## Online Gradient Ascent #############\n",
    "\n",
    "for t in range(T):\n",
    "\n",
    "    # compute gradient\n",
    "    grad1 = A.dot(strategy2)\n",
    "    grad2 = strategy1.transpose().dot(B) \n",
    "\n",
    "    # update strategy (OMA with entropic regularizer)\n",
    "    strategy1 = strategy1*np.exp(eta*grad1)/sum(strategy1*np.exp(eta*grad1))\n",
    "    strategy2 = strategy2*np.exp(eta*grad2)/sum(strategy2*np.exp(eta*grad2))\n",
    "\n",
    "    # store p_Head in result vector p\n",
    "    p1 += [strategy1[0]]\n",
    "    p2 += [strategy2[0]]\n",
    "\n",
    "print(np.mean(p1))\n",
    "print(np.mean(p2))"
   ]
  },
  {
   "cell_type": "code",
   "execution_count": null,
   "metadata": {},
   "outputs": [],
   "source": [
    "plt.figure(figsize = (8,8))\n",
    "\n",
    "plt.scatter(p1_Head, p2_Head, color='tab:blue',marker='o',s=70, zorder=1, label='initial strategy')\n",
    "plt.scatter([0.5], [0.5], color='red',marker='*',s=100, label='Nash Equilibrium')\n",
    "plt.plot(p1,p2, marker = '*')\n",
    "\n",
    "plt.xlabel('P(Head) Player 1', fontsize=15)\n",
    "plt.ylabel('P(Head) Player 2', fontsize=15)\n",
    "plt.title('Matching Pennies', fontsize=16, fontweight='bold')\n",
    "plt.legend(fontsize=14)\n",
    "plt.ylim(0,1); plt.xlim(0,1)\n",
    "plt.show()"
   ]
  },
  {
   "cell_type": "code",
   "execution_count": null,
   "metadata": {},
   "outputs": [],
   "source": [
    "aaACBVBVVVCXX"
   ]
  }
 ],
 "metadata": {
  "kernelspec": {
   "display_name": "Python 3",
   "language": "python",
   "name": "python3"
  },
  "language_info": {
   "codemirror_mode": {
    "name": "ipython",
    "version": 3
   },
   "file_extension": ".py",
   "mimetype": "text/x-python",
   "name": "python",
   "nbconvert_exporter": "python",
   "pygments_lexer": "ipython3",
   "version": "3.8.5"
  }
 },
 "nbformat": 4,
 "nbformat_minor": 4
}
