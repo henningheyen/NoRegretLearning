{
 "cells": [
  {
   "cell_type": "markdown",
   "metadata": {},
   "source": [
    "# Battle of Sexes"
   ]
  },
  {
   "cell_type": "code",
   "execution_count": null,
   "metadata": {},
   "outputs": [],
   "source": [
    "import matplotlib.pyplot as plt\n",
    "import numpy as np\n",
    "from IPython import display"
   ]
  },
  {
   "cell_type": "code",
   "execution_count": null,
   "metadata": {},
   "outputs": [],
   "source": [
    "display.Image(\"/Users/henningheyen/Desktop/Studium/TUM/BachelorThesis/Git/NoRegretLearning/Screenshots/BattleOfSexesWikipedia.png\", width = 300)\n",
    "#PNE: (F,F), (B,B)\n",
    "#MNE: P1: (F:3/5,B:2/5) P2: (F:2/5,B:3/5)"
   ]
  },
  {
   "cell_type": "code",
   "execution_count": null,
   "metadata": {},
   "outputs": [],
   "source": [
    "# number of iterations\n",
    "T = int(20)\n",
    "\n",
    "#number of players\n",
    "n = 2\n",
    "\n",
    "#number of strategies (F: Fight, B: Ballet) \n",
    "d = 2\n",
    "\n",
    "#Lipschitz Constant\n",
    "L = 1\n",
    "\n",
    "#step size \n",
    "eta = np.sqrt(np.log(d))/(L*np.sqrt(2*T))\n",
    "#eta = 0.4\n"
   ]
  },
  {
   "cell_type": "code",
   "execution_count": null,
   "metadata": {},
   "outputs": [],
   "source": [
    "######### Payoff Matrix #########\n",
    "A = np.array([[3,0],[0,2]])\n",
    "\n",
    "\n",
    "# payoff matrix player 2:\n",
    "B = np.array([[2,0],[0,3]])\n",
    "\n",
    "print(\"A: \\n\" + str(A))\n",
    "print(\"B: \\n\" + str(B))"
   ]
  },
  {
   "cell_type": "code",
   "execution_count": null,
   "metadata": {},
   "outputs": [],
   "source": [
    "######### Inizialization #########\n",
    "p1_fight = 0.1\n",
    "p2_fight = 0.1\n",
    "strategy1 = np.array([p1_fight, 1-p1_fight])  \n",
    "strategy2 = np.array([p2_fight, 1-p2_fight]) \n",
    "\n",
    "\n",
    "\n",
    "# list to store results\n",
    "p1, p2 = [p1_fight], [p2_fight]\n",
    "\n",
    "########## Online Gradient Ascent Algorithm #############\n",
    "\n",
    "for t in range(T):\n",
    "\n",
    "    # compute gradient\n",
    "    grad1 = A.dot(strategy2)\n",
    "    grad2 = strategy1.transpose().dot(B) \n",
    "    print(grad1)\n",
    "\n",
    "    # update strategy (OMA with entropic regularizer)\n",
    "    strategy1 = strategy1*np.exp(eta*grad1)/sum(strategy1*np.exp(eta*grad1))\n",
    "    print(strategy1)\n",
    "    strategy2 = strategy2*np.exp(eta*grad2)/sum(strategy2*np.exp(eta*grad2))\n",
    "\n",
    "    # store p_Head in result vector p\n",
    "    p1 += [strategy1[0]]\n",
    "    p2 += [strategy2[0]]\n"
   ]
  },
  {
   "cell_type": "code",
   "execution_count": null,
   "metadata": {},
   "outputs": [],
   "source": [
    "plt.figure(figsize = (8,8))\n",
    "\n",
    "plt.scatter(p1_fight, p2_fight, color='tab:blue',marker='o',s=70, zorder=1, label='initial strategy')\n",
    "plt.scatter([3/5], [2/5], color='red',marker='*',s=100, label='Nash Equilibrium')\n",
    "plt.plot(p1,p2, marker = '*')\n",
    "\n",
    "plt.xlabel('P(Prize Fight) Player 1', fontsize=15)\n",
    "plt.ylabel('P(Prize Fight) Player 2', fontsize=15)\n",
    "plt.title('Battle of Sexes', fontsize=16, fontweight='bold')\n",
    "plt.legend(fontsize=14)\n",
    "plt.ylim(0,1); plt.xlim(0,1)\n",
    "plt.show()"
   ]
  },
  {
   "cell_type": "code",
   "execution_count": null,
   "metadata": {},
   "outputs": [],
   "source": []
  },
  {
   "cell_type": "code",
   "execution_count": null,
   "metadata": {},
   "outputs": [],
   "source": []
  }
 ],
 "metadata": {
  "kernelspec": {
   "display_name": "PyCharm (BeispielPython)",
   "language": "python",
   "name": "pycharm-5641e3b"
  },
  "language_info": {
   "codemirror_mode": {
    "name": "ipython",
    "version": 3
   },
   "file_extension": ".py",
   "mimetype": "text/x-python",
   "name": "python",
   "nbconvert_exporter": "python",
   "pygments_lexer": "ipython3",
   "version": "3.9.0"
  }
 },
 "nbformat": 4,
 "nbformat_minor": 5
}
